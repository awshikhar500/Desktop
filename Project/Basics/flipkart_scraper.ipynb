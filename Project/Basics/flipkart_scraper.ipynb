{
 "cells": [
  {
   "cell_type": "code",
   "execution_count": 3,
   "metadata": {},
   "outputs": [],
   "source": [
    "from dputils.scrape import Scraper, Tag"
   ]
  },
  {
   "cell_type": "code",
   "execution_count": 23,
   "metadata": {},
   "outputs": [
    {
     "data": {
      "text/plain": [
       "'https://www.flipkart.com/search?q=camera&page=1'"
      ]
     },
     "execution_count": 23,
     "metadata": {},
     "output_type": "execute_result"
    }
   ],
   "source": [
    "query = 'camera'\n",
    "page = 1\n",
    "url = f'https://www.flipkart.com/search?q={query}&page={page}'\n",
    "scraper = Scraper(url)\n",
    "scraper.soup.title\n",
    "scraper.url"
   ]
  },
  {
   "cell_type": "code",
   "execution_count": 24,
   "metadata": {},
   "outputs": [
    {
     "name": "stdout",
     "output_type": "stream",
     "text": [
      "26\n"
     ]
    }
   ],
   "source": [
    "target = Tag(cls='_1YokD2 _3Mn1Gg')\n",
    "items = Tag(cls='_1AtVbE col-12-12')\n",
    "#product items\n",
    "title = Tag(cls='_4rR01T')\n",
    "price = Tag(cls='_30jeq3 _1_WHN1')\n",
    "rating = Tag('span',cls='_2_R_DZ')\n",
    "out = scraper.get_all(target,items,name=title,price=price,rr=rating)\n",
    "print(len(out))"
   ]
  },
  {
   "cell_type": "code",
   "execution_count": 25,
   "metadata": {},
   "outputs": [
    {
     "data": {
      "text/plain": [
       "[{'name': 'Canon EOS 1500D DSLR Camera Body+ 18-55 mm IS II Lens',\n",
       "  'price': '₹36,990',\n",
       "  'rr': '14,934 Ratings\\xa0&\\xa02,046 Reviews'},\n",
       " {'name': 'Canon EOS 3000D DSLR Camera 1 Camera Body, 18 - 55 mm Lens',\n",
       "  'price': '₹29,999',\n",
       "  'rr': '26,377 Ratings\\xa0&\\xa03,893 Reviews'},\n",
       " {'name': 'Bzrqx Mini Security Double Antenna Auto Rotating 1080p Night Vision Mobile CCTV Wifi Live Streaming Sp...',\n",
       "  'price': '₹1,297',\n",
       "  'rr': '74 Ratings\\xa0&\\xa05 Reviews'},\n",
       " {'name': 'FUJIFILM Instax Mini 11 Instant Camera',\n",
       "  'price': '₹5,999',\n",
       "  'rr': '833 Ratings\\xa0&\\xa061 Reviews'},\n",
       " {'name': 'SrO 6 Wireless Home Security Surveillance Cameras with Night Vision_ Motion Detection Sports and Actio...',\n",
       "  'price': '₹835',\n",
       "  'rr': '202 Ratings\\xa0&\\xa08 Reviews'},\n",
       " {'name': 'SONY Alpha ILCE-6100 APS-C Mirrorless Camera Body Only Featuring Eye AF and 4K movie recording',\n",
       "  'price': '₹56,990',\n",
       "  'rr': '269 Ratings\\xa0&\\xa049 Reviews'},\n",
       " {'name': 'FUJIFILM Instax Treasure Box Mini 9 Instant Camera',\n",
       "  'price': '₹5,299',\n",
       "  'rr': '968 Ratings\\xa0&\\xa068 Reviews'},\n",
       " {'name': 'TOTAL 4K 4K/30FPS 1080P/60FPS 20MP WiFi Wide-Angle 131ft Waterproof Underwater Cam Sports and Action C...',\n",
       "  'price': '₹1,999',\n",
       "  'rr': '3 Ratings\\xa0&\\xa00 Reviews'},\n",
       " {'name': 'Bzrqx MINI CAMERA WiFi Camera for Home Office Security Indoor Camera with Motion Detection Sports and ...',\n",
       "  'price': '₹999',\n",
       "  'rr': '13 Ratings\\xa0&\\xa01 Reviews'},\n",
       " {'name': 'Insta360 Action Camera X3 Sports and Action Camera',\n",
       "  'price': '₹46,990',\n",
       "  'rr': '27 Ratings\\xa0&\\xa03 Reviews'},\n",
       " {'name': 'Bzrqx Mini Security CCTV 1080p Wifi Double Antenna Auto Rotating Night Vision Mobile Live Streaming Sp...',\n",
       "  'price': '₹1,299',\n",
       "  'rr': '52 Ratings\\xa0&\\xa04 Reviews'},\n",
       " {'name': 'RHONNIUM Plain 1080-HD Cam-055 ® 1080p(16 MP) Waterproof Sports and Action Camera',\n",
       "  'price': '₹1,195',\n",
       "  'rr': '4 Ratings\\xa0&\\xa00 Reviews'},\n",
       " {'name': 'Insta360 ONE R ONE RS 4K Edition Sports and Action Camera',\n",
       "  'price': '₹25,990',\n",
       "  'rr': '40 Ratings\\xa0&\\xa02 Reviews'},\n",
       " {'name': 'CAM4U GoPro Action Camera 4k Go Pro ActionCamera 16MP wifi waterproof Action Camera Sports Camera Spor...',\n",
       "  'price': '₹2,290',\n",
       "  'rr': '31 Ratings\\xa0&\\xa01 Reviews'},\n",
       " {'name': 'SJCAM SJ6 Legend SJ6 Legend Sports and Action Camera',\n",
       "  'price': '₹9,999',\n",
       "  'rr': '3,004 Ratings\\xa0&\\xa0428 Reviews'},\n",
       " {'name': 'namoenterprices Mini Night Vision ACTION Camera SQ11 Mini Camera HD Night Vision Sports Camcorder Mini...',\n",
       "  'price': '₹745',\n",
       "  'rr': '77 Ratings\\xa0&\\xa010 Reviews'},\n",
       " {'name': 'RHONNIUM Plain 1080-HD Cam-042 ™ 30M Depth 16 MP Ultra HD Under Water Sports and Action Camera',\n",
       "  'price': '₹1,399',\n",
       "  'rr': '83 Ratings\\xa0&\\xa05 Reviews'},\n",
       " {'name': 'GoPro Hero9 Sports and Action Camera',\n",
       "  'price': '₹33,800',\n",
       "  'rr': '1,086 Ratings\\xa0&\\xa0102 Reviews'},\n",
       " {'name': 'ALA GO PRO Portable Waterproof HD Sports and Action Camera',\n",
       "  'price': '₹1,390',\n",
       "  'rr': '581 Ratings\\xa0&\\xa075 Reviews'},\n",
       " {'name': 'SIOVS wifi SECURITY CAMERA WiFi CCTV Camera Mobile Connect Smart Camera with Night Vision Spy Camera S...',\n",
       "  'price': '₹999',\n",
       "  'rr': '7 Ratings\\xa0&\\xa00 Reviews'},\n",
       " {'name': 'Canon EOS M200 Mirrorless Camera Body with Single Lens (EF-M15-45mm f/3.5-6.3 IS STM)',\n",
       "  'price': '₹43,995',\n",
       "  'rr': '1,464 Ratings\\xa0&\\xa0209 Reviews'},\n",
       " {'name': 'SIOVS Mini small Body PEN Nanny Camera Full Hd 1080p Video Audio Recording Taking 75 Minutes Battery L...',\n",
       "  'price': '₹1,999',\n",
       "  'rr': '26 Ratings\\xa0&\\xa02 Reviews'},\n",
       " {'name': 'CASON CS6 Real 4K Dual Screen Action Camera for Vlogging With EIS+Gyro, Touch Screen Waterproof Sports...',\n",
       "  'price': '₹9,989',\n",
       "  'rr': '81 Ratings\\xa0&\\xa013 Reviews'},\n",
       " {'name': 'IMPLY GO PRO 4K Full HD WiFi 30M Waterproof Sports Action Camera Waterproof DV Camcorder 16MP Sports a...',\n",
       "  'price': '₹1,790',\n",
       "  'rr': '196 Ratings\\xa0&\\xa031 Reviews'},\n",
       " {'name': None, 'price': None, 'rr': None},\n",
       " {'name': None, 'price': None, 'rr': None}]"
      ]
     },
     "execution_count": 25,
     "metadata": {},
     "output_type": "execute_result"
    }
   ],
   "source": [
    "out"
   ]
  },
  {
   "cell_type": "code",
   "execution_count": null,
   "metadata": {},
   "outputs": [],
   "source": []
  }
 ],
 "metadata": {
  "kernelspec": {
   "display_name": "Python 3",
   "language": "python",
   "name": "python3"
  },
  "language_info": {
   "codemirror_mode": {
    "name": "ipython",
    "version": 3
   },
   "file_extension": ".py",
   "mimetype": "text/x-python",
   "name": "python",
   "nbconvert_exporter": "python",
   "pygments_lexer": "ipython3",
   "version": "3.10.9"
  },
  "orig_nbformat": 4
 },
 "nbformat": 4,
 "nbformat_minor": 2
}
