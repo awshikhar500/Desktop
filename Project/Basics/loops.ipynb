{
 "cells": [
  {
   "attachments": {},
   "cell_type": "markdown",
   "metadata": {},
   "source": [
    "- iterables (anything that can be used in a loop)\n",
    "- for loop\n",
    "    - step based loop\n",
    "    - special iterables\n",
    "        - range()\n",
    "        - enumerate()\n",
    "        - zip()\n",
    "    for - else\n",
    "- while loop\n",
    "    - condition based loop \n",
    "---\n",
    "\n",
    "while condition\n",
    "\n",
    "    # do something\n",
    "\n",
    "--- \n",
    " \n",
    "    - while - else\n",
    "\n",
    "\n",
    "\n",
    "- while loop"
   ]
  },
  {
   "cell_type": "code",
   "execution_count": 1,
   "metadata": {},
   "outputs": [
    {
     "name": "stdout",
     "output_type": "stream",
     "text": [
      "12\n",
      "52\n",
      "13\n",
      "24\n",
      "45\n"
     ]
    }
   ],
   "source": [
    "x = [12, 52, 13, 24, 45]\n",
    "for i in x:\n",
    "    print(i)"
   ]
  },
  {
   "cell_type": "code",
   "execution_count": 3,
   "metadata": {},
   "outputs": [
    {
     "name": "stdout",
     "output_type": "stream",
     "text": [
      "have you seen Tiger?\n",
      "have you seen Elephant?\n",
      "have you seen Leopard?\n"
     ]
    }
   ],
   "source": [
    "animals = ['Tiger', 'Elephant', 'Leopard']\n",
    "for animal in animals:\n",
    "    print(f'have you seen {animal}?')"
   ]
  },
  {
   "cell_type": "code",
   "execution_count": 6,
   "metadata": {},
   "outputs": [
    {
     "name": "stdout",
     "output_type": "stream",
     "text": [
      "Jumanji              | 7\n",
      "Resident Evil        | 13\n",
      "Gangs of Wasseypur   | 18\n",
      "RRR                  | 3\n",
      "KGF                  | 3\n",
      "Harry Potter         | 12\n",
      "Iron Man             | 8\n",
      "Thor: Ragnarok       | 14\n",
      "Rocketary            | 9\n",
      "Captain America      | 15\n"
     ]
    }
   ],
   "source": [
    "movies = ['Jumanji', 'Resident Evil', 'Gangs of Wasseypur', 'RRR', 'KGF', 'Harry Potter', 'Iron Man', 'Thor: Ragnarok', 'Rocketary', 'Captain America']\n",
    "for movie in movies:\n",
    "    print(f'{movie:20} | {len(movie)}')"
   ]
  },
  {
   "attachments": {},
   "cell_type": "markdown",
   "metadata": {},
   "source": [
    "Adding logic into loops"
   ]
  },
  {
   "cell_type": "code",
   "execution_count": 9,
   "metadata": {},
   "outputs": [
    {
     "name": "stdout",
     "output_type": "stream",
     "text": [
      "Orange\n",
      "Gray\n",
      "Black\n",
      "Cyan\n"
     ]
    }
   ],
   "source": [
    "colors = ['Red', 'Green', 'Yellow', 'Blue', 'Violit', 'Orange', 'Gray', 'Black', 'Silver', 'Brown', 'Cyan', 'White']\n",
    "for name in colors:\n",
    "    if 'a' in name:\n",
    "        print(name)"
   ]
  },
  {
   "cell_type": "code",
   "execution_count": 10,
   "metadata": {},
   "outputs": [
    {
     "name": "stdout",
     "output_type": "stream",
     "text": [
      "0 1 2 3 4 5 6 7 8 9 "
     ]
    }
   ],
   "source": [
    "for i in range(10):\n",
    "    print(i, end=' ') # end in special setting in print function"
   ]
  },
  {
   "cell_type": "code",
   "execution_count": 11,
   "metadata": {},
   "outputs": [
    {
     "name": "stdout",
     "output_type": "stream",
     "text": [
      "15 16 17 18 19 20 21 22 23 24 25 26 27 28 29 30 "
     ]
    }
   ],
   "source": [
    "# 15 to 30 iterate\n",
    "for i in range(15,31):\n",
    "    print(i, end=' ')"
   ]
  },
  {
   "cell_type": "code",
   "execution_count": 19,
   "metadata": {},
   "outputs": [
    {
     "name": "stdout",
     "output_type": "stream",
     "text": [
      "0 5 10 15 20 25 30 35 40 45 50 55 60 65 70 75 80 85 90 95 100 "
     ]
    }
   ],
   "source": [
    "# 0 to 100 with a increment of 5\n",
    "for i in range(0,101,5): #i = index\n",
    "    print(i, end=' ')"
   ]
  },
  {
   "cell_type": "code",
   "execution_count": 15,
   "metadata": {},
   "outputs": [
    {
     "name": "stdout",
     "output_type": "stream",
     "text": [
      "10 9 8 7 6 5 4 3 2 1 "
     ]
    }
   ],
   "source": [
    "# reverse loop\n",
    "for i in range(10,0,-1):\n",
    "    print(i, end=' ')"
   ]
  },
  {
   "cell_type": "code",
   "execution_count": 17,
   "metadata": {},
   "outputs": [
    {
     "name": "stdout",
     "output_type": "stream",
     "text": [
      "(0, 'Jumanji')\n",
      "(1, 'Resident Evil')\n",
      "(2, 'Gangs of Wasseypur')\n",
      "(3, 'RRR')\n",
      "(4, 'KGF')\n",
      "(5, 'Harry Potter')\n",
      "(6, 'Iron Man')\n",
      "(7, 'Thor: Ragnarok')\n",
      "(8, 'Rocketary')\n",
      "(9, 'Captain America')\n"
     ]
    }
   ],
   "source": [
    "# enumeration\n",
    "for movie in enumerate(movies):\n",
    "    print(movie)"
   ]
  },
  {
   "cell_type": "code",
   "execution_count": 21,
   "metadata": {},
   "outputs": [
    {
     "name": "stdout",
     "output_type": "stream",
     "text": [
      "0 Jumanji\n",
      "1 Resident Evil\n",
      "2 Gangs of Wasseypur\n",
      "3 RRR\n",
      "4 KGF\n",
      "5 Harry Potter\n",
      "6 Iron Man\n",
      "7 Thor: Ragnarok\n",
      "8 Rocketary\n",
      "9 Captain America\n"
     ]
    }
   ],
   "source": [
    "for i, movie in enumerate(movies): # i = index\n",
    "    print(i,movie)"
   ]
  },
  {
   "cell_type": "code",
   "execution_count": 24,
   "metadata": {},
   "outputs": [],
   "source": [
    "x = [2,56,67,12,56]\n",
    "y = [2,5,1,6,5]\n",
    "z = [2,5,61,46,22]"
   ]
  },
  {
   "cell_type": "code",
   "execution_count": 26,
   "metadata": {},
   "outputs": [
    {
     "name": "stdout",
     "output_type": "stream",
     "text": [
      "6 66 129 64 83 "
     ]
    }
   ],
   "source": [
    "# non pythonic\n",
    "for i in range(len(x)):\n",
    "    print(x[i]+y[i]+z[i], end=' ')"
   ]
  },
  {
   "cell_type": "code",
   "execution_count": 28,
   "metadata": {},
   "outputs": [
    {
     "name": "stdout",
     "output_type": "stream",
     "text": [
      "6 66 129 64 83 "
     ]
    }
   ],
   "source": [
    "# pythonic\n",
    "for i,j,k in zip(x,y,z):\n",
    "    print(i+j+k, end=' ')"
   ]
  },
  {
   "cell_type": "code",
   "execution_count": 31,
   "metadata": {},
   "outputs": [
    {
     "name": "stdout",
     "output_type": "stream",
     "text": [
      "total=348\n"
     ]
    }
   ],
   "source": [
    "total = 0\n",
    "for i,j,k in zip(x,y,z):\n",
    "    total += i+j+k\n",
    "print(f'{total=}')"
   ]
  },
  {
   "cell_type": "code",
   "execution_count": 44,
   "metadata": {},
   "outputs": [
    {
     "name": "stdout",
     "output_type": "stream",
     "text": [
      "1\n",
      "2\n",
      "5\n",
      "6\n",
      "2\n",
      "None\n",
      "2\n",
      "5\n",
      "1\n",
      "5\n"
     ]
    }
   ],
   "source": [
    "data = [1,2,0,5,6,2,None,0,0,2,5,1,5]\n",
    "for i in data:\n",
    "    if i == 0:\n",
    "        continue\n",
    "    print(i)"
   ]
  },
  {
   "cell_type": "code",
   "execution_count": 47,
   "metadata": {},
   "outputs": [
    {
     "ename": "IndentationError",
     "evalue": "expected an indented block (2902214832.py, line 3)",
     "output_type": "error",
     "traceback": [
      "\u001b[0;36m  Cell \u001b[0;32mIn[47], line 3\u001b[0;36m\u001b[0m\n\u001b[0;31m    print(i)\u001b[0m\n\u001b[0m    ^\u001b[0m\n\u001b[0;31mIndentationError\u001b[0m\u001b[0;31m:\u001b[0m expected an indented block\n"
     ]
    }
   ],
   "source": [
    "for i in data:\n",
    "    if i != 0:\n",
    "    print(i)"
   ]
  },
  {
   "cell_type": "code",
   "execution_count": 45,
   "metadata": {},
   "outputs": [
    {
     "name": "stdout",
     "output_type": "stream",
     "text": [
      "1\n",
      "2\n",
      "0\n",
      "5\n",
      "6\n",
      "2\n",
      "the end\n"
     ]
    }
   ],
   "source": [
    "for i in data:\n",
    "    if i == None:\n",
    "        break\n",
    "    print(i)\n",
    "print('the end')"
   ]
  },
  {
   "cell_type": "code",
   "execution_count": 48,
   "metadata": {},
   "outputs": [
    {
     "name": "stdout",
     "output_type": "stream",
     "text": [
      "1\n",
      "2\n",
      "5\n",
      "6\n",
      "2\n"
     ]
    }
   ],
   "source": [
    "for i in data:\n",
    "    if i == 0: continue\n",
    "    if i == None: break\n",
    "    print(i)"
   ]
  }
 ],
 "metadata": {
  "kernelspec": {
   "display_name": "Python 3",
   "language": "python",
   "name": "python3"
  },
  "language_info": {
   "codemirror_mode": {
    "name": "ipython",
    "version": 3
   },
   "file_extension": ".py",
   "mimetype": "text/x-python",
   "name": "python",
   "nbconvert_exporter": "python",
   "pygments_lexer": "ipython3",
   "version": "3.9.6"
  },
  "orig_nbformat": 4,
  "vscode": {
   "interpreter": {
    "hash": "31f2aee4e71d21fbe5cf8b01ff0e069b9275f58929596ceb00d14d90e3e16cd6"
   }
  }
 },
 "nbformat": 4,
 "nbformat_minor": 2
}
