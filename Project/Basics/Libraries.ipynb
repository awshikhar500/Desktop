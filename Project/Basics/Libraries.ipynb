{
 "cells": [
  {
   "cell_type": "code",
   "execution_count": 1,
   "metadata": {},
   "outputs": [
    {
     "name": "stdout",
     "output_type": "stream",
     "text": [
      "<class 'str'>\n"
     ]
    }
   ],
   "source": [
    "x = \"Hello\"\n",
    "print(type(x))"
   ]
  },
  {
   "cell_type": "code",
   "execution_count": 13,
   "metadata": {},
   "outputs": [],
   "source": [
    "class Dog:\n",
    "    def bark(self):\n",
    "        print(\"woof\")\n",
    "    def bite(self,item):\n",
    "        print(f\"biting{item}\")\n",
    "\n",
    "    def __init__(self,age,breed,gender): #dunder method\n",
    "        self.age = age\n",
    "        self.breed = breed\n",
    "        self.gender = gender"
   ]
  },
  {
   "cell_type": "code",
   "execution_count": 14,
   "metadata": {},
   "outputs": [
    {
     "name": "stdout",
     "output_type": "stream",
     "text": [
      "woof\n",
      "bitingshoe\n",
      "bitingfish\n",
      "woof\n",
      "woof\n",
      "woof\n"
     ]
    }
   ],
   "source": [
    "Tiger = Dog(3, 'German Shepherd', 'Male')\n",
    "Badshah = Dog(5, 'Pitbull', 'Male')\n",
    "\n",
    "Tiger.bark()\n",
    "Badshah.bite('shoe')\n",
    "Tiger.bite('fish')\n",
    "Badshah.bark()\n",
    "Badshah.bark()\n",
    "Badshah.bark()"
   ]
  }
 ],
 "metadata": {
  "kernelspec": {
   "display_name": "Python 3",
   "language": "python",
   "name": "python3"
  },
  "language_info": {
   "codemirror_mode": {
    "name": "ipython",
    "version": 3
   },
   "file_extension": ".py",
   "mimetype": "text/x-python",
   "name": "python",
   "nbconvert_exporter": "python",
   "pygments_lexer": "ipython3",
   "version": "3.10.9"
  },
  "orig_nbformat": 4,
  "vscode": {
   "interpreter": {
    "hash": "99e642bafabcb539cb97ffe7287c8137696094aa67b726decd7581efd44d816c"
   }
  }
 },
 "nbformat": 4,
 "nbformat_minor": 2
}
