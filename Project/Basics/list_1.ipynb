{
 "cells": [
  {
   "attachments": {},
   "cell_type": "markdown",
   "metadata": {},
   "source": [
    "Basic Data Structure\n",
    "\n",
    "1. List 👑\n",
    "2. Tuple\n",
    "3. Set\n",
    "4. Dictionary 👑\n",
    "\n",
    "List properties\n",
    "- is ordered (sequence)\n",
    "- indexed\n",
    "- mutable (changable)\n",
    "- allow duplicate values\n",
    "- Heterogeneous (different types of data)\n",
    "- List is denoted by square brackets '[ ]'\n",
    "- An iterable can be converted to list using list() function\n",
    "\n"
   ]
  },
  {
   "attachments": {},
   "cell_type": "markdown",
   "metadata": {},
   "source": [
    "What to learn?\n",
    "- Creating\n",
    "- Indexing/slicing\n",
    "- Modifying\n",
    "- Methods"
   ]
  },
  {
   "cell_type": "code",
   "execution_count": 39,
   "metadata": {},
   "outputs": [],
   "source": [
    "x = [1,2,3,4,5,6]\n",
    "names = ['Anshu','Abhishek','Divyanshi','Madhu']\n",
    "mixeds = ['Potato',10,'Tomato',20,'Onion',30]"
   ]
  },
  {
   "cell_type": "code",
   "execution_count": 2,
   "metadata": {},
   "outputs": [
    {
     "data": {
      "text/plain": [
       "['S', 'h', 'i', 'k', 'h', 'a', 'r']"
      ]
     },
     "execution_count": 2,
     "metadata": {},
     "output_type": "execute_result"
    }
   ],
   "source": [
    "name = 'Shikhar'\n",
    "list(name)"
   ]
  },
  {
   "cell_type": "code",
   "execution_count": 4,
   "metadata": {},
   "outputs": [
    {
     "data": {
      "text/plain": [
       "[1, 1, 1, 1, 1, 1, 1, 1, 1, 1]"
      ]
     },
     "execution_count": 4,
     "metadata": {},
     "output_type": "execute_result"
    }
   ],
   "source": [
    "a = [1] # Single element list\n",
    "a*10 # duplicate the list"
   ]
  },
  {
   "cell_type": "code",
   "execution_count": 5,
   "metadata": {},
   "outputs": [
    {
     "name": "stdout",
     "output_type": "stream",
     "text": [
      "['Can', 'i', 'take', 'the', 'class', '@Shikhar_Awasthi']\n"
     ]
    }
   ],
   "source": [
    "data = 'Can i take the class @Shikhar_Awasthi'\n",
    "words = data.split()\n",
    "print(words)"
   ]
  },
  {
   "cell_type": "code",
   "execution_count": 6,
   "metadata": {},
   "outputs": [
    {
     "data": {
      "text/plain": [
       "'Can'"
      ]
     },
     "execution_count": 6,
     "metadata": {},
     "output_type": "execute_result"
    }
   ],
   "source": [
    "words[0]"
   ]
  },
  {
   "cell_type": "code",
   "execution_count": 7,
   "metadata": {},
   "outputs": [
    {
     "data": {
      "text/plain": [
       "'@Shikhar_Awasthi'"
      ]
     },
     "execution_count": 7,
     "metadata": {},
     "output_type": "execute_result"
    }
   ],
   "source": [
    "words[-1]"
   ]
  },
  {
   "cell_type": "code",
   "execution_count": 8,
   "metadata": {},
   "outputs": [
    {
     "data": {
      "text/plain": [
       "['Can', 'you', 'please', 'take', 'the', 'class']"
      ]
     },
     "execution_count": 8,
     "metadata": {},
     "output_type": "execute_result"
    }
   ],
   "source": [
    "words[1] = 'you'\n",
    "words[2] = 'please'\n",
    "words[3] = 'take'\n",
    "words[4] = 'the'\n",
    "words[5] = 'class'\n",
    "words"
   ]
  },
  {
   "cell_type": "code",
   "execution_count": 10,
   "metadata": {},
   "outputs": [
    {
     "name": "stdout",
     "output_type": "stream",
     "text": [
      "[11, 22, 33]\n",
      "[77, 88, 99]\n",
      "[11, 22, 33, 44, 55, 66, 77, 88, 99]\n",
      "[99, 88, 77, 66, 55, 44, 33, 22, 11]\n"
     ]
    }
   ],
   "source": [
    "x = [11,22,33,44,55,66,77,88,99]\n",
    "print(x[:3]) # first 3 elements\n",
    "print(x[-3:]) # last 3 elements\n",
    "print(x[:100]) # first 100 elements if available\n",
    "print(x[::-1]) # reverse the list\n"
   ]
  },
  {
   "cell_type": "code",
   "execution_count": 11,
   "metadata": {},
   "outputs": [
    {
     "name": "stdout",
     "output_type": "stream",
     "text": [
      "Anshu\n",
      "Abhishek\n",
      "Divyanshi\n",
      "Madhu\n"
     ]
    }
   ],
   "source": [
    "for name in names:\n",
    "    print(name)"
   ]
  },
  {
   "cell_type": "code",
   "execution_count": 12,
   "metadata": {},
   "outputs": [
    {
     "name": "stdout",
     "output_type": "stream",
     "text": [
      "11\n",
      "22\n",
      "33\n",
      "44\n",
      "55\n",
      "66\n",
      "77\n",
      "88\n",
      "99\n"
     ]
    }
   ],
   "source": [
    "for num in x:\n",
    "    print(num)"
   ]
  },
  {
   "cell_type": "code",
   "execution_count": 13,
   "metadata": {},
   "outputs": [
    {
     "name": "stdout",
     "output_type": "stream",
     "text": [
      "99\n",
      "88\n",
      "77\n",
      "66\n",
      "55\n",
      "44\n",
      "33\n",
      "22\n",
      "11\n"
     ]
    }
   ],
   "source": [
    "# reverse iteration\n",
    "for num in x[::-1]:\n",
    "    print(num)"
   ]
  },
  {
   "cell_type": "code",
   "execution_count": 14,
   "metadata": {},
   "outputs": [
    {
     "name": "stdout",
     "output_type": "stream",
     "text": [
      "11\n",
      "22\n",
      "33\n",
      "44\n",
      "55\n"
     ]
    }
   ],
   "source": [
    "# only first 5 elements of the list in the loop\n",
    "for i in x[:5]:\n",
    "    print(i)"
   ]
  },
  {
   "attachments": {},
   "cell_type": "markdown",
   "metadata": {},
   "source": [
    "Don't update the list while iterating over it"
   ]
  },
  {
   "attachments": {},
   "cell_type": "markdown",
   "metadata": {},
   "source": [
    "list has 11 methods"
   ]
  },
  {
   "cell_type": "code",
   "execution_count": 15,
   "metadata": {},
   "outputs": [],
   "source": [
    "x.append(111)"
   ]
  },
  {
   "cell_type": "code",
   "execution_count": 17,
   "metadata": {},
   "outputs": [
    {
     "data": {
      "text/plain": [
       "[11, 22, 33, 44, 55, 66, 77, 88, 99, 111]"
      ]
     },
     "execution_count": 17,
     "metadata": {},
     "output_type": "execute_result"
    }
   ],
   "source": [
    "x"
   ]
  },
  {
   "cell_type": "code",
   "execution_count": 19,
   "metadata": {},
   "outputs": [
    {
     "name": "stdout",
     "output_type": "stream",
     "text": [
      "[11, 22, 33, 40, 40, 44, 55, 66, 77, 88, 99, 111]\n"
     ]
    }
   ],
   "source": [
    "x.insert(3,40)\n",
    "print(x)"
   ]
  },
  {
   "cell_type": "code",
   "execution_count": 20,
   "metadata": {},
   "outputs": [],
   "source": [
    "y = [21,31,41,51,61,71,81,91]"
   ]
  },
  {
   "cell_type": "code",
   "execution_count": 21,
   "metadata": {},
   "outputs": [
    {
     "data": {
      "text/plain": [
       "[11,\n",
       " 22,\n",
       " 33,\n",
       " 40,\n",
       " 40,\n",
       " 44,\n",
       " 55,\n",
       " 66,\n",
       " 77,\n",
       " 88,\n",
       " 99,\n",
       " 111,\n",
       " 21,\n",
       " 31,\n",
       " 41,\n",
       " 51,\n",
       " 61,\n",
       " 71,\n",
       " 81,\n",
       " 91]"
      ]
     },
     "execution_count": 21,
     "metadata": {},
     "output_type": "execute_result"
    }
   ],
   "source": [
    "x + y # concatenation of lists"
   ]
  },
  {
   "cell_type": "code",
   "execution_count": 22,
   "metadata": {},
   "outputs": [
    {
     "name": "stdout",
     "output_type": "stream",
     "text": [
      "[11, 22, 33, 40, 40, 44, 55, 66, 77, 88, 99, 111, 21, 31, 41, 51, 61, 71, 81, 91]\n",
      "[21, 31, 41, 51, 61, 71, 81, 91]\n"
     ]
    }
   ],
   "source": [
    "x.extend(y) # extend the list\n",
    "print(x)\n",
    "print(y)"
   ]
  },
  {
   "cell_type": "code",
   "execution_count": 23,
   "metadata": {},
   "outputs": [
    {
     "name": "stdout",
     "output_type": "stream",
     "text": [
      "[]\n"
     ]
    }
   ],
   "source": [
    "x.clear()\n",
    "print(x)"
   ]
  },
  {
   "cell_type": "code",
   "execution_count": 40,
   "metadata": {},
   "outputs": [],
   "source": [
    "names.remove('Madhu')"
   ]
  },
  {
   "cell_type": "code",
   "execution_count": 42,
   "metadata": {},
   "outputs": [],
   "source": [
    "names.remove('Anshu')"
   ]
  },
  {
   "cell_type": "code",
   "execution_count": 43,
   "metadata": {},
   "outputs": [
    {
     "data": {
      "text/plain": [
       "['Abhishek', 'Divyanshi']"
      ]
     },
     "execution_count": 43,
     "metadata": {},
     "output_type": "execute_result"
    }
   ],
   "source": [
    "names"
   ]
  },
  {
   "cell_type": "code",
   "execution_count": 35,
   "metadata": {},
   "outputs": [
    {
     "data": {
      "text/plain": [
       "['Can', 'you', 'please', 'take', 'the', 'class']"
      ]
     },
     "execution_count": 35,
     "metadata": {},
     "output_type": "execute_result"
    }
   ],
   "source": [
    "words"
   ]
  },
  {
   "cell_type": "code",
   "execution_count": 36,
   "metadata": {},
   "outputs": [
    {
     "data": {
      "text/plain": [
       "'please'"
      ]
     },
     "execution_count": 36,
     "metadata": {},
     "output_type": "execute_result"
    }
   ],
   "source": [
    "words.pop(2)"
   ]
  },
  {
   "cell_type": "code",
   "execution_count": 37,
   "metadata": {},
   "outputs": [
    {
     "data": {
      "text/plain": [
       "['Can', 'you', 'take', 'the', 'class']"
      ]
     },
     "execution_count": 37,
     "metadata": {},
     "output_type": "execute_result"
    }
   ],
   "source": [
    "words"
   ]
  },
  {
   "cell_type": "code",
   "execution_count": 38,
   "metadata": {},
   "outputs": [
    {
     "name": "stdout",
     "output_type": "stream",
     "text": [
      "['Can', 'you', 'take', 'class']\n"
     ]
    }
   ],
   "source": [
    "words.pop(-2)\n",
    "print(words)"
   ]
  }
 ],
 "metadata": {
  "kernelspec": {
   "display_name": "base",
   "language": "python",
   "name": "python3"
  },
  "language_info": {
   "codemirror_mode": {
    "name": "ipython",
    "version": 3
   },
   "file_extension": ".py",
   "mimetype": "text/x-python",
   "name": "python",
   "nbconvert_exporter": "python",
   "pygments_lexer": "ipython3",
   "version": "3.10.8"
  },
  "orig_nbformat": 4,
  "vscode": {
   "interpreter": {
    "hash": "f6b3fd59cf1ceef71b9c6a4ce4e147d309cd27456b7400171a593f3001cc3ca1"
   }
  }
 },
 "nbformat": 4,
 "nbformat_minor": 2
}
