{
 "cells": [
  {
   "cell_type": "code",
   "execution_count": 1,
   "metadata": {},
   "outputs": [
    {
     "name": "stdout",
     "output_type": "stream",
     "text": [
      "[1, 2, 3, 3, 5]\n",
      "[5, 6, 3, 1, 5]\n"
     ]
    }
   ],
   "source": [
    "x = [1,2,3,3,5]\n",
    "y = [5,6,3,1,5]\n",
    "\n",
    "print(x)\n",
    "print(y)"
   ]
  },
  {
   "cell_type": "code",
   "execution_count": 4,
   "metadata": {},
   "outputs": [],
   "source": [
    "class super_list(list):\n",
    "    def sum(self):\n",
    "        return sum(self)\n",
    "    \n",
    "    def mean(self):\n",
    "        return sum(self)/len(self)\n",
    "    \n",
    "    def size(self):\n",
    "        return len(self)"
   ]
  },
  {
   "cell_type": "code",
   "execution_count": 6,
   "metadata": {},
   "outputs": [
    {
     "name": "stdout",
     "output_type": "stream",
     "text": [
      "2.8\n",
      "4.0\n",
      "5\n",
      "5\n",
      "14\n",
      "20\n",
      "24\n",
      "4.0\n",
      "6\n"
     ]
    }
   ],
   "source": [
    "x = super_list([1,2,3,3,5])\n",
    "y = super_list([5,6,3,1,5])\n",
    "print(x.mean())\n",
    "print(y.mean())\n",
    "print(x.size())\n",
    "print(y.size())\n",
    "print(x.sum())\n",
    "print(y.sum())\n",
    "x.append(10)\n",
    "y.append(20)\n",
    "print(x.sum())\n",
    "print(x.mean())\n",
    "print(x.size())"
   ]
  },
  {
   "cell_type": "code",
   "execution_count": 7,
   "metadata": {},
   "outputs": [],
   "source": [
    "from dataclasses import dataclass\n",
    "\n",
    "@dataclass\n",
    "class ProductV2:\n",
    "    id:int\n",
    "    name:str\n",
    "    price:float\n",
    "    brand:str\n",
    "    category:str\n",
    "    description:str\n",
    "    stock:int\n",
    "    rating:float"
   ]
  },
  {
   "cell_type": "code",
   "execution_count": 8,
   "metadata": {},
   "outputs": [
    {
     "data": {
      "text/plain": [
       "ProductV2(id=1, name='iPhone', price=100000, brand='Apple', category='Electronics', description='iPhone 12', stock=100, rating=4.5)"
      ]
     },
     "execution_count": 8,
     "metadata": {},
     "output_type": "execute_result"
    }
   ],
   "source": [
    "p2 = ProductV2(1, 'iPhone', 100000, 'Apple', 'Electronics', 'iPhone 12', 100, 4.5)\n",
    "p2"
   ]
  },
  {
   "cell_type": "markdown",
   "metadata": {},
   "source": []
  }
 ],
 "metadata": {
  "kernelspec": {
   "display_name": "Python 3",
   "language": "python",
   "name": "python3"
  },
  "language_info": {
   "codemirror_mode": {
    "name": "ipython",
    "version": 3
   },
   "file_extension": ".py",
   "mimetype": "text/x-python",
   "name": "python",
   "nbconvert_exporter": "python",
   "pygments_lexer": "ipython3",
   "version": "3.10.9"
  },
  "orig_nbformat": 4,
  "vscode": {
   "interpreter": {
    "hash": "99e642bafabcb539cb97ffe7287c8137696094aa67b726decd7581efd44d816c"
   }
  }
 },
 "nbformat": 4,
 "nbformat_minor": 2
}
