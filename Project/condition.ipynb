{
 "cells": [
  {
   "cell_type": "code",
   "execution_count": 1,
   "metadata": {},
   "outputs": [
    {
     "name": "stdout",
     "output_type": "stream",
     "text": [
      "yes😍\n"
     ]
    }
   ],
   "source": [
    "x=5\n",
    "if x>3:\n",
    "    print(\"yes😍\")\n",
    "else:\n",
    "    print(\"no🤬\")"
   ]
  },
  {
   "cell_type": "code",
   "execution_count": 2,
   "metadata": {},
   "outputs": [
    {
     "name": "stdout",
     "output_type": "stream",
     "text": [
      "You followed the instruction\n",
      "Good job😎\n"
     ]
    }
   ],
   "source": [
    "a = input(\"enter a number:\")\n",
    "if a.isnumeric():\n",
    "    print(\"You followed the instruction\")\n",
    "    print(\"Good job😎\")\n",
    "else:\n",
    "    print(\"You didn't follow the instruction\")\n",
    "    print(\"Try again🥺\")"
   ]
  },
  {
   "cell_type": "code",
   "execution_count": 8,
   "metadata": {},
   "outputs": [
    {
     "name": "stdout",
     "output_type": "stream",
     "text": [
      "Your order is on its way\n"
     ]
    }
   ],
   "source": [
    "menu = [\"Pizza\", \"Pasta\", \"Salad\", \"Nachos\"]\n",
    "order = input(\"What would you like to order\")\n",
    "if order in menu:\n",
    "    print(\"Your order is on its way\")\n",
    "else:\n",
    "    print(\"Agle saal aana🤓\")"
   ]
  }
 ],
 "metadata": {
  "kernelspec": {
   "display_name": "Python 3",
   "language": "python",
   "name": "python3"
  },
  "language_info": {
   "codemirror_mode": {
    "name": "ipython",
    "version": 3
   },
   "file_extension": ".py",
   "mimetype": "text/x-python",
   "name": "python",
   "nbconvert_exporter": "python",
   "pygments_lexer": "ipython3",
   "version": "3.9.6"
  },
  "orig_nbformat": 4,
  "vscode": {
   "interpreter": {
    "hash": "31f2aee4e71d21fbe5cf8b01ff0e069b9275f58929596ceb00d14d90e3e16cd6"
   }
  }
 },
 "nbformat": 4,
 "nbformat_minor": 2
}
