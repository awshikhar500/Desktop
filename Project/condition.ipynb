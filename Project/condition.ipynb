{
 "cells": [
  {
   "cell_type": "code",
   "execution_count": 1,
   "metadata": {},
   "outputs": [
    {
     "name": "stdout",
     "output_type": "stream",
     "text": [
      "yes😍\n"
     ]
    }
   ],
   "source": [
    "x=5\n",
    "if x>3:\n",
    "    print(\"yes😍\")\n",
    "else:\n",
    "    print(\"no🤬\")"
   ]
  },
  {
   "cell_type": "code",
   "execution_count": 2,
   "metadata": {},
   "outputs": [
    {
     "name": "stdout",
     "output_type": "stream",
     "text": [
      "You followed the instruction\n",
      "Good job😎\n"
     ]
    }
   ],
   "source": [
    "a = input(\"enter a number:\")\n",
    "if a.isnumeric():\n",
    "    print(\"You followed the instruction\")\n",
    "    print(\"Good job😎\")\n",
    "else:\n",
    "    print(\"You didn't follow the instruction\")\n",
    "    print(\"Try again🥺\")"
   ]
  },
  {
   "cell_type": "code",
   "execution_count": 1,
   "metadata": {},
   "outputs": [
    {
     "name": "stdout",
     "output_type": "stream",
     "text": [
      "Agle saal aana🤓\n"
     ]
    }
   ],
   "source": [
    "menu = [\"Pizza\", \"Pasta\", \"Salad\", \"Nachos\"]\n",
    "order = input(\"What would you like to order\")\n",
    "if order in menu:\n",
    "    print(\"Your order is on its way\")\n",
    "else:\n",
    "    print(\"Agle saal aana🤓\")"
   ]
  },
  {
   "cell_type": "code",
   "execution_count": 4,
   "metadata": {},
   "outputs": [
    {
     "name": "stdout",
     "output_type": "stream",
     "text": [
      "Invalid entry\n"
     ]
    }
   ],
   "source": [
    "#If elif else condition\n",
    "\n",
    "x = int(input(\"enter a number=>\"))\n",
    "if x < 20:\n",
    "    print(\"E\")\n",
    "elif x >= 20 and x < 40:\n",
    "    print(\"D\")\n",
    "elif x >= 40 and x < 60:\n",
    "    print(\"C\")\n",
    "elif x >= 60 and x < 80:\n",
    "    print(\"A\")\n",
    "elif x >= 80 and x < 100:\n",
    "    print(\"S\")\n",
    "else:\n",
    "    print(\"Invalid entry\")\n",
    "\n",
    "\n",
    "        "
   ]
  },
  {
   "attachments": {},
   "cell_type": "markdown",
   "metadata": {},
   "source": [
    "Nested Conditions"
   ]
  },
  {
   "cell_type": "code",
   "execution_count": 7,
   "metadata": {},
   "outputs": [
    {
     "name": "stdout",
     "output_type": "stream",
     "text": [
      "password do not match😡\n"
     ]
    }
   ],
   "source": [
    "uname = input(\"enter your username =\")\n",
    "email = input(\"enter your email =\")\n",
    "pwd = input(\"enter password =\")\n",
    "pwd2 = input(\"confirm password =\")\n",
    "if len(uname) >=4 and len(uname) < 16:\n",
    "    if '@' in email and len(email) > 6:\n",
    "        if len(pwd) >= 8 and len(pwd) <= 20 and pwd != uname:\n",
    "            if pwd == pwd2:\n",
    "                print(\"Hurray 🥳\")\n",
    "            else:\n",
    "                print(\"password do not match😡\")\n",
    "        else:\n",
    "            print(\"Password invalid🤬\")\n",
    "    else:\n",
    "        print(\"email is invalid😡\")\n",
    "else:\n",
    "    print(\"username is invalid🤬\")"
   ]
  },
  {
   "attachments": {},
   "cell_type": "markdown",
   "metadata": {},
   "source": [
    "Match case\n",
    "---\n",
    "match expression:\n",
    "    case pattern1:\n",
    "        statement1\n",
    "    case pattern2:\n",
    "        statement2\n",
    "    else _:\n",
    "        statement3\n"
   ]
  },
  {
   "cell_type": "code",
   "execution_count": 9,
   "metadata": {},
   "outputs": [
    {
     "ename": "SyntaxError",
     "evalue": "invalid syntax (2994640118.py, line 2)",
     "output_type": "error",
     "traceback": [
      "\u001b[0;36m  Cell \u001b[0;32mIn[9], line 2\u001b[0;36m\u001b[0m\n\u001b[0;31m    match name:\u001b[0m\n\u001b[0m          ^\u001b[0m\n\u001b[0;31mSyntaxError\u001b[0m\u001b[0;31m:\u001b[0m invalid syntax\n"
     ]
    }
   ],
   "source": [
    "name = input(\"enter your name:\")\n",
    "match name:\n",
    "    case \"ajay\":\n",
    "        print(\"So you are ajay\")\n",
    "    case \"vijay\":\n",
    "        print(\"Cool cool, you vijay\")\n",
    "    case \"raju\":\n",
    "        print(\"toh aap ho raju\")\n",
    "    case _:\n",
    "        print(\"I don't care who are you\")\n",
    "\n",
    "#Code could not run because the version is not latest\n",
    "    "
   ]
  },
  {
   "attachments": {},
   "cell_type": "markdown",
   "metadata": {},
   "source": [
    "# Ques- wap to generate total salary of employee based on their designation\n",
    "- if designation is manager then base salary is 50000\n",
    "- if designation is developer then base salary is 40000\n",
    "- if designation is tester then base salary is 30000\n",
    "- apply 10% bonus for manager\n",
    "- apply 20% bonus for developer\n",
    "- apply 30% bonus for tester\n",
    "- add hra of 20% of base salary\n",
    "\n",
    "use condition in match case"
   ]
  },
  {
   "cell_type": "code",
   "execution_count": 10,
   "metadata": {},
   "outputs": [
    {
     "ename": "SyntaxError",
     "evalue": "invalid syntax (3580083966.py, line 2)",
     "output_type": "error",
     "traceback": [
      "\u001b[0;36m  Cell \u001b[0;32mIn[10], line 2\u001b[0;36m\u001b[0m\n\u001b[0;31m    match designation:\u001b[0m\n\u001b[0m          ^\u001b[0m\n\u001b[0;31mSyntaxError\u001b[0m\u001b[0;31m:\u001b[0m invalid syntax\n"
     ]
    }
   ],
   "source": [
    "designation = input(\"enter your designation\")\n",
    "match designation:\n",
    "    case \"manager\":\n",
    "        pass\n",
    "    case \"developer\":\n",
    "        pass\n",
    "    case \"tester\":\n",
    "    case _:\n",
    "        print(\"You are fired\")"
   ]
  },
  {
   "cell_type": "code",
   "execution_count": 18,
   "metadata": {},
   "outputs": [
    {
     "name": "stdout",
     "output_type": "stream",
     "text": [
      "total salary : 65000.0\n"
     ]
    }
   ],
   "source": [
    "designation = input(\"Enter your Designation:\")\n",
    "if designation == 'manager':\n",
    "    bs = 50000\n",
    "    bns = bs * .1 #10%\n",
    "    hra = bs * .2 #20%\n",
    "    ts = bs + bns + hra\n",
    "    print(f'total salary : {ts}')\n",
    "elif designation == 'developer':\n",
    "    bs = 40000\n",
    "    bns = bs * .2 #20%\n",
    "    hra = bs + .2 #20%\n",
    "    ts = bs + bns + hra\n",
    "    print(f'total salary : {ts}')\n",
    "elif designation == 'tester':\n",
    "    bs = 30000\n",
    "    bns = bs * .3 #30%\n",
    "    hra = bs * .2 #20%\n",
    "    ts = bs + bns + hra\n",
    "    print(f'total salary : {ts}')\n",
    "else:\n",
    "    print(\"You are fired\")"
   ]
  }
 ],
 "metadata": {
  "kernelspec": {
   "display_name": "Python 3",
   "language": "python",
   "name": "python3"
  },
  "language_info": {
   "codemirror_mode": {
    "name": "ipython",
    "version": 3
   },
   "file_extension": ".py",
   "mimetype": "text/x-python",
   "name": "python",
   "nbconvert_exporter": "python",
   "pygments_lexer": "ipython3",
   "version": "3.9.6 (default, Oct 18 2022, 12:41:40) \n[Clang 14.0.0 (clang-1400.0.29.202)]"
  },
  "orig_nbformat": 4,
  "vscode": {
   "interpreter": {
    "hash": "31f2aee4e71d21fbe5cf8b01ff0e069b9275f58929596ceb00d14d90e3e16cd6"
   }
  }
 },
 "nbformat": 4,
 "nbformat_minor": 2
}
